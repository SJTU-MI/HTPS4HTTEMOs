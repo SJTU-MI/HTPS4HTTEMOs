{
 "cells": [
  {
   "cell_type": "code",
   "execution_count": 1,
   "id": "e25e2bc3",
   "metadata": {},
   "outputs": [],
   "source": [
    "from pymatgen.ext.matproj import MPRester\n",
    "mpr = MPRester(\"U1fTPc4yI52WhxAN\")\n",
    "mp_decode = False"
   ]
  },
  {
   "cell_type": "code",
   "execution_count": 2,
   "id": "f4fdfa60",
   "metadata": {},
   "outputs": [],
   "source": [
    "import pandas as pd\n",
    "def ReadTxtName(rootdir):\n",
    "    lines = []\n",
    "    with open(rootdir, 'r') as file_to_read:\n",
    "        while True:\n",
    "            line = file_to_read.readline()\n",
    "            if not line:\n",
    "                break\n",
    "            line = line.strip('\\n')\n",
    "            lines.append(line)\n",
    "    return lines"
   ]
  },
  {
   "cell_type": "code",
   "execution_count": 3,
   "id": "214d56e2",
   "metadata": {},
   "outputs": [],
   "source": [
    "resultpath='choose-metal.txt'\n",
    "choose_lineslist=ReadTxtName(resultpath)"
   ]
  },
  {
   "cell_type": "code",
   "execution_count": 4,
   "id": "abd42eed",
   "metadata": {},
   "outputs": [],
   "source": [
    "resultpath='reject-metal.txt'\n",
    "reject_lineslist=ReadTxtName(resultpath)"
   ]
  },
  {
   "cell_type": "code",
   "execution_count": 5,
   "id": "0e1e88ed",
   "metadata": {},
   "outputs": [
    {
     "name": "stderr",
     "output_type": "stream",
     "text": [
      "100%|█████████████████████████████████████████████████████████████████████████| 122492/122492 [02:16<00:00, 900.50it/s]\n"
     ]
    }
   ],
   "source": [
    "outputdata = mpr.query(criteria={'elements':{'$in':choose_lineslist}}, \n",
    "                       properties=[\n",
    "                           'task_id',\n",
    "                           'pretty_formula',\n",
    "                           'elements',\n",
    "                           'nelements',\n",
    "                           'spacegroup.crystal_system',\n",
    "                           'band_gap',\n",
    "                           'e_above_hull'\n",
    "                       ])"
   ]
  },
  {
   "cell_type": "code",
   "execution_count": 6,
   "id": "53b23b86",
   "metadata": {},
   "outputs": [],
   "source": [
    "list1_ID_metal_four = []\n",
    "list2_ID_metal_oxides_has_reject = []\n",
    "list3_ID_metal_oxides_delete_reject = []\n",
    "list4_ID_metal_oxides_structure = []\n",
    "list5_ID_metal_oxides_bandgap = []\n",
    "list6_ID_metal_oxides_bandgap_Ehull_final = []\n",
    "\n",
    "for list_mat in outputdata:\n",
    "    if list_mat['nelements']<=4:\n",
    "        list1_ID_metal_four.append(list_mat['task_id'])\n",
    "        if 'O'in list_mat['elements']:\n",
    "            list2_ID_metal_oxides_has_reject.append(list_mat['task_id'])\n",
    "            judge_num = True\n",
    "            for elem in list_mat['elements']:\n",
    "                judge_num = judge_num*(not(elem in reject_lineslist))\n",
    "            if judge_num == True:\n",
    "                list3_ID_metal_oxides_delete_reject.append(list_mat['task_id'])\n",
    "                if list_mat['spacegroup.crystal_system']!= 'triclinic' and list_mat['spacegroup.crystal_system']!= 'monoclinic':\n",
    "                    list4_ID_metal_oxides_structure.append(list_mat['task_id'])\n",
    "                    if list_mat['band_gap']>=0.1 and list_mat['band_gap']<=2.5:\n",
    "                        list5_ID_metal_oxides_bandgap.append(list_mat['task_id'])\n",
    "                        if list_mat['e_above_hull']!= None:\n",
    "                            e_above_hull_per_atom = float(list_mat['e_above_hull'])\n",
    "                            if e_above_hull_per_atom<=0.01:\n",
    "                                list6_ID_metal_oxides_bandgap_Ehull_final.append(list_mat['task_id'])"
   ]
  },
  {
   "cell_type": "code",
   "execution_count": 7,
   "id": "709070ee",
   "metadata": {},
   "outputs": [
    {
     "data": {
      "text/plain": [
       "110748"
      ]
     },
     "execution_count": 7,
     "metadata": {},
     "output_type": "execute_result"
    }
   ],
   "source": [
    "len(list1_ID_metal_four)"
   ]
  },
  {
   "cell_type": "code",
   "execution_count": 8,
   "id": "72facff0",
   "metadata": {},
   "outputs": [
    {
     "data": {
      "text/plain": [
       "49556"
      ]
     },
     "execution_count": 8,
     "metadata": {},
     "output_type": "execute_result"
    }
   ],
   "source": [
    "len(list2_ID_metal_oxides_has_reject)"
   ]
  },
  {
   "cell_type": "code",
   "execution_count": 9,
   "id": "5144bb77",
   "metadata": {},
   "outputs": [
    {
     "data": {
      "text/plain": [
       "48694"
      ]
     },
     "execution_count": 9,
     "metadata": {},
     "output_type": "execute_result"
    }
   ],
   "source": [
    "len(list3_ID_metal_oxides_delete_reject)"
   ]
  },
  {
   "cell_type": "code",
   "execution_count": 10,
   "id": "80896175",
   "metadata": {},
   "outputs": [
    {
     "data": {
      "text/plain": [
       "22714"
      ]
     },
     "execution_count": 10,
     "metadata": {},
     "output_type": "execute_result"
    }
   ],
   "source": [
    "len(list4_ID_metal_oxides_structure)"
   ]
  },
  {
   "cell_type": "code",
   "execution_count": 11,
   "id": "8cbb6248",
   "metadata": {},
   "outputs": [
    {
     "data": {
      "text/plain": [
       "7762"
      ]
     },
     "execution_count": 11,
     "metadata": {},
     "output_type": "execute_result"
    }
   ],
   "source": [
    "len(list5_ID_metal_oxides_bandgap)"
   ]
  },
  {
   "cell_type": "code",
   "execution_count": 12,
   "id": "d4755ec8",
   "metadata": {},
   "outputs": [
    {
     "data": {
      "text/plain": [
       "2147"
      ]
     },
     "execution_count": 12,
     "metadata": {},
     "output_type": "execute_result"
    }
   ],
   "source": [
    "len(list6_ID_metal_oxides_bandgap_Ehull_final)"
   ]
  },
  {
   "cell_type": "code",
   "execution_count": 13,
   "id": "61460893",
   "metadata": {},
   "outputs": [],
   "source": [
    "list1_ID_metal_four_pd = pd.DataFrame(list1_ID_metal_four)\n",
    "list2_ID_metal_oxides_has_reject_pd = pd.DataFrame(list2_ID_metal_oxides_has_reject)\n",
    "list3_ID_metal_oxides_delete_reject_pd = pd.DataFrame(list3_ID_metal_oxides_delete_reject)\n",
    "list4_ID_metal_oxides_structure_pd = pd.DataFrame(list4_ID_metal_oxides_structure)\n",
    "list5_ID_metal_oxides_bandgap_pd = pd.DataFrame(list5_ID_metal_oxides_bandgap)\n",
    "list6_ID_metal_oxides_bandgap_Ehull_final_pd = pd.DataFrame(list6_ID_metal_oxides_bandgap_Ehull_final)"
   ]
  },
  {
   "cell_type": "code",
   "execution_count": 14,
   "id": "061b88c7",
   "metadata": {},
   "outputs": [],
   "source": [
    "list1_ID_metal_four_pd.to_csv('list1_ID_metal_four_pd.csv')\n",
    "list2_ID_metal_oxides_has_reject_pd.to_csv('list2_ID_metal_oxides_has_reject_pd.csv')\n",
    "list3_ID_metal_oxides_delete_reject_pd.to_csv('list3_ID_metal_oxides_delete_reject_pd.csv')\n",
    "list4_ID_metal_oxides_structure_pd.to_csv('list4_ID_metal_oxides_structure_pd.csv')\n",
    "list5_ID_metal_oxides_bandgap_pd.to_csv('list5_ID_metal_oxides_bandgap_pd.csv')\n",
    "list6_ID_metal_oxides_bandgap_Ehull_final_pd.to_csv('list6_ID_metal_oxides_bandgap_Ehull_final_pd.csv')"
   ]
  },
  {
   "cell_type": "code",
   "execution_count": null,
   "id": "3372a2cc",
   "metadata": {},
   "outputs": [],
   "source": []
  }
 ],
 "metadata": {
  "kernelspec": {
   "display_name": "Python [conda env:py38]",
   "language": "python",
   "name": "conda-env-py38-py"
  },
  "language_info": {
   "codemirror_mode": {
    "name": "ipython",
    "version": 3
   },
   "file_extension": ".py",
   "mimetype": "text/x-python",
   "name": "python",
   "nbconvert_exporter": "python",
   "pygments_lexer": "ipython3",
   "version": "3.8.16"
  }
 },
 "nbformat": 4,
 "nbformat_minor": 5
}
